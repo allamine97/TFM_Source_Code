{
  "nbformat": 4,
  "nbformat_minor": 0,
  "metadata": {
    "colab": {
      "provenance": [],
      "include_colab_link": true
    },
    "kernelspec": {
      "name": "python3",
      "display_name": "Python 3"
    },
    "language_info": {
      "name": "python"
    }
  },
  "cells": [
    {
      "cell_type": "markdown",
      "metadata": {
        "id": "view-in-github",
        "colab_type": "text"
      },
      "source": [
        "<a href=\"https://colab.research.google.com/github/allamine97/TFM_Source_Code/blob/main/TFM_Dataset.ipynb\" target=\"_parent\"><img src=\"https://colab.research.google.com/assets/colab-badge.svg\" alt=\"Open In Colab\"/></a>"
      ]
    },
    {
      "cell_type": "markdown",
      "source": [
        "**Dataset Creation**"
      ],
      "metadata": {
        "id": "uQd6-6tfUqPm"
      }
    },
    {
      "cell_type": "code",
      "execution_count": null,
      "metadata": {
        "id": "J2PoG4f6iyyO"
      },
      "outputs": [],
      "source": [
        "import pandas as pd\n",
        "import numpy as np"
      ]
    },
    {
      "cell_type": "markdown",
      "source": [
        "Addresses of Santa Brigida Municipality"
      ],
      "metadata": {
        "id": "nzusRI-my0KY"
      }
    },
    {
      "cell_type": "code",
      "source": [
        "santaBrigida = pd.read_csv('/content/sample_data/direcciones_SantaBrigida.csv', sep=\",\")\n",
        "print(santaBrigida.shape)"
      ],
      "metadata": {
        "colab": {
          "base_uri": "https://localhost:8080/"
        },
        "id": "upVY5aNpqIkd",
        "outputId": "417380a2-dc4f-448f-b4a5-f963218dc0f7"
      },
      "execution_count": null,
      "outputs": [
        {
          "output_type": "stream",
          "name": "stdout",
          "text": [
            "(16024, 24)\n"
          ]
        }
      ]
    },
    {
      "cell_type": "markdown",
      "source": [
        "Chosing interstings columns for our study"
      ],
      "metadata": {
        "id": "7ic3klwlFE7y"
      }
    },
    {
      "cell_type": "code",
      "source": [
        "santaBrigida = santaBrigida[['uuid_idt','tvia','nvia','numer','codmun','nommun','direccion']]\n",
        "santaBrigida=santaBrigida.dropna()\n",
        "santaBrigida.head(3)"
      ],
      "metadata": {
        "colab": {
          "base_uri": "https://localhost:8080/",
          "height": 240
        },
        "id": "zQHpGEv9yoLM",
        "outputId": "b5a42744-ef79-42af-ca56-e17bf97f1915"
      },
      "execution_count": null,
      "outputs": [
        {
          "output_type": "execute_result",
          "data": {
            "text/plain": [
              "                               uuid_idt   tvia   nvia  numer  codmun  \\\n",
              "1  69f2a3ab-3251-11e8-bd93-480fcf5217b3  CALLE  TEJAR     10   35021   \n",
              "2  6fd61eba-3251-11e8-b6de-480fcf5217b3  CALLE   RASO     23   35021   \n",
              "3  6fedfdee-3251-11e8-bd96-480fcf5217b3  CALLE  MIRLO      0   35021   \n",
              "\n",
              "          nommun                     direccion  \n",
              "1  Santa Brígida  CALLE TEJAR 10 SANTA BRIGIDA  \n",
              "2  Santa Brígida   CALLE RASO 23 SANTA BRIGIDA  \n",
              "3  Santa Brígida   CALLE MIRLO 0 SANTA BRIGIDA  "
            ],
            "text/html": [
              "\n",
              "  <div id=\"df-546d0c2f-329e-474a-ac07-4c8ae464f910\">\n",
              "    <div class=\"colab-df-container\">\n",
              "      <div>\n",
              "<style scoped>\n",
              "    .dataframe tbody tr th:only-of-type {\n",
              "        vertical-align: middle;\n",
              "    }\n",
              "\n",
              "    .dataframe tbody tr th {\n",
              "        vertical-align: top;\n",
              "    }\n",
              "\n",
              "    .dataframe thead th {\n",
              "        text-align: right;\n",
              "    }\n",
              "</style>\n",
              "<table border=\"1\" class=\"dataframe\">\n",
              "  <thead>\n",
              "    <tr style=\"text-align: right;\">\n",
              "      <th></th>\n",
              "      <th>uuid_idt</th>\n",
              "      <th>tvia</th>\n",
              "      <th>nvia</th>\n",
              "      <th>numer</th>\n",
              "      <th>codmun</th>\n",
              "      <th>nommun</th>\n",
              "      <th>direccion</th>\n",
              "    </tr>\n",
              "  </thead>\n",
              "  <tbody>\n",
              "    <tr>\n",
              "      <th>1</th>\n",
              "      <td>69f2a3ab-3251-11e8-bd93-480fcf5217b3</td>\n",
              "      <td>CALLE</td>\n",
              "      <td>TEJAR</td>\n",
              "      <td>10</td>\n",
              "      <td>35021</td>\n",
              "      <td>Santa Brígida</td>\n",
              "      <td>CALLE TEJAR 10 SANTA BRIGIDA</td>\n",
              "    </tr>\n",
              "    <tr>\n",
              "      <th>2</th>\n",
              "      <td>6fd61eba-3251-11e8-b6de-480fcf5217b3</td>\n",
              "      <td>CALLE</td>\n",
              "      <td>RASO</td>\n",
              "      <td>23</td>\n",
              "      <td>35021</td>\n",
              "      <td>Santa Brígida</td>\n",
              "      <td>CALLE RASO 23 SANTA BRIGIDA</td>\n",
              "    </tr>\n",
              "    <tr>\n",
              "      <th>3</th>\n",
              "      <td>6fedfdee-3251-11e8-bd96-480fcf5217b3</td>\n",
              "      <td>CALLE</td>\n",
              "      <td>MIRLO</td>\n",
              "      <td>0</td>\n",
              "      <td>35021</td>\n",
              "      <td>Santa Brígida</td>\n",
              "      <td>CALLE MIRLO 0 SANTA BRIGIDA</td>\n",
              "    </tr>\n",
              "  </tbody>\n",
              "</table>\n",
              "</div>\n",
              "      <button class=\"colab-df-convert\" onclick=\"convertToInteractive('df-546d0c2f-329e-474a-ac07-4c8ae464f910')\"\n",
              "              title=\"Convert this dataframe to an interactive table.\"\n",
              "              style=\"display:none;\">\n",
              "        \n",
              "  <svg xmlns=\"http://www.w3.org/2000/svg\" height=\"24px\"viewBox=\"0 0 24 24\"\n",
              "       width=\"24px\">\n",
              "    <path d=\"M0 0h24v24H0V0z\" fill=\"none\"/>\n",
              "    <path d=\"M18.56 5.44l.94 2.06.94-2.06 2.06-.94-2.06-.94-.94-2.06-.94 2.06-2.06.94zm-11 1L8.5 8.5l.94-2.06 2.06-.94-2.06-.94L8.5 2.5l-.94 2.06-2.06.94zm10 10l.94 2.06.94-2.06 2.06-.94-2.06-.94-.94-2.06-.94 2.06-2.06.94z\"/><path d=\"M17.41 7.96l-1.37-1.37c-.4-.4-.92-.59-1.43-.59-.52 0-1.04.2-1.43.59L10.3 9.45l-7.72 7.72c-.78.78-.78 2.05 0 2.83L4 21.41c.39.39.9.59 1.41.59.51 0 1.02-.2 1.41-.59l7.78-7.78 2.81-2.81c.8-.78.8-2.07 0-2.86zM5.41 20L4 18.59l7.72-7.72 1.47 1.35L5.41 20z\"/>\n",
              "  </svg>\n",
              "      </button>\n",
              "      \n",
              "  <style>\n",
              "    .colab-df-container {\n",
              "      display:flex;\n",
              "      flex-wrap:wrap;\n",
              "      gap: 12px;\n",
              "    }\n",
              "\n",
              "    .colab-df-convert {\n",
              "      background-color: #E8F0FE;\n",
              "      border: none;\n",
              "      border-radius: 50%;\n",
              "      cursor: pointer;\n",
              "      display: none;\n",
              "      fill: #1967D2;\n",
              "      height: 32px;\n",
              "      padding: 0 0 0 0;\n",
              "      width: 32px;\n",
              "    }\n",
              "\n",
              "    .colab-df-convert:hover {\n",
              "      background-color: #E2EBFA;\n",
              "      box-shadow: 0px 1px 2px rgba(60, 64, 67, 0.3), 0px 1px 3px 1px rgba(60, 64, 67, 0.15);\n",
              "      fill: #174EA6;\n",
              "    }\n",
              "\n",
              "    [theme=dark] .colab-df-convert {\n",
              "      background-color: #3B4455;\n",
              "      fill: #D2E3FC;\n",
              "    }\n",
              "\n",
              "    [theme=dark] .colab-df-convert:hover {\n",
              "      background-color: #434B5C;\n",
              "      box-shadow: 0px 1px 3px 1px rgba(0, 0, 0, 0.15);\n",
              "      filter: drop-shadow(0px 1px 2px rgba(0, 0, 0, 0.3));\n",
              "      fill: #FFFFFF;\n",
              "    }\n",
              "  </style>\n",
              "\n",
              "      <script>\n",
              "        const buttonEl =\n",
              "          document.querySelector('#df-546d0c2f-329e-474a-ac07-4c8ae464f910 button.colab-df-convert');\n",
              "        buttonEl.style.display =\n",
              "          google.colab.kernel.accessAllowed ? 'block' : 'none';\n",
              "\n",
              "        async function convertToInteractive(key) {\n",
              "          const element = document.querySelector('#df-546d0c2f-329e-474a-ac07-4c8ae464f910');\n",
              "          const dataTable =\n",
              "            await google.colab.kernel.invokeFunction('convertToInteractive',\n",
              "                                                     [key], {});\n",
              "          if (!dataTable) return;\n",
              "\n",
              "          const docLinkHtml = 'Like what you see? Visit the ' +\n",
              "            '<a target=\"_blank\" href=https://colab.research.google.com/notebooks/data_table.ipynb>data table notebook</a>'\n",
              "            + ' to learn more about interactive tables.';\n",
              "          element.innerHTML = '';\n",
              "          dataTable['output_type'] = 'display_data';\n",
              "          await google.colab.output.renderOutput(dataTable, element);\n",
              "          const docLink = document.createElement('div');\n",
              "          docLink.innerHTML = docLinkHtml;\n",
              "          element.appendChild(docLink);\n",
              "        }\n",
              "      </script>\n",
              "    </div>\n",
              "  </div>\n",
              "  "
            ]
          },
          "metadata": {},
          "execution_count": 3
        }
      ]
    },
    {
      "cell_type": "code",
      "source": [
        "print(santaBrigida.shape)"
      ],
      "metadata": {
        "colab": {
          "base_uri": "https://localhost:8080/"
        },
        "id": "_NONZtoLKgBa",
        "outputId": "7fd84f12-8585-4867-9060-df15b69aef9a"
      },
      "execution_count": null,
      "outputs": [
        {
          "output_type": "stream",
          "name": "stdout",
          "text": [
            "(14097, 7)\n"
          ]
        }
      ]
    },
    {
      "cell_type": "markdown",
      "source": [
        "Now we have to make a fraction of a our dataset cause of lack of resources"
      ],
      "metadata": {
        "id": "k6XwCZ6NjcZ2"
      }
    },
    {
      "cell_type": "code",
      "source": [
        "#datos_frac represent a part of SantaBrigia\n",
        "datos_frac=santaBrigida.sample(frac=0.02)\n",
        "datos_frac.shape"
      ],
      "metadata": {
        "id": "9FTd-Z8Ees6i",
        "colab": {
          "base_uri": "https://localhost:8080/"
        },
        "outputId": "bb5069cb-d7c6-4645-d578-129260861adf"
      },
      "execution_count": null,
      "outputs": [
        {
          "output_type": "execute_result",
          "data": {
            "text/plain": [
              "(320, 24)"
            ]
          },
          "metadata": {},
          "execution_count": 4
        }
      ]
    },
    {
      "cell_type": "code",
      "source": [
        "datos_frac=datos_frac.reset_index(drop=True)\n",
        "datos_frac.head()"
      ],
      "metadata": {
        "colab": {
          "base_uri": "https://localhost:8080/",
          "height": 565
        },
        "id": "nllFJACb2diM",
        "outputId": "6a4f25f6-f45d-456e-c4ce-4aacc2098907"
      },
      "execution_count": null,
      "outputs": [
        {
          "output_type": "execute_result",
          "data": {
            "text/plain": [
              "                               uuid_idt          tvia                nvia  \\\n",
              "0  3523bab3-7449-11eb-8771-6f70bc935088         CALLE  MANUEL LOPEZ MUÑOZ   \n",
              "1  68c8832a-3251-11e8-99bb-480fcf5217b3         LUGAR          BUENAVISTA   \n",
              "2  60721e56-3251-11e8-b29a-480fcf5217b3        CAMINO            OLIVOS A   \n",
              "3  66c0d524-3251-11e8-b1da-480fcf5217b3     CARRETERA             SILOS A   \n",
              "4  115de6bd-868d-4c65-8c48-62b9648e447f  URBANIZACION      LENTISCOS PARC   \n",
              "\n",
              "   numer  codmun         nommun                                     direccion  \n",
              "0      6   35021  Santa Brígida      CALLE MANUEL LOPEZ MUÑOZ 6 SANTA BRIGIDA  \n",
              "1     40   35021  Santa Brígida             LUGAR BUENAVISTA 40 SANTA BRIGIDA  \n",
              "2     76   35021  Santa Brígida              CAMINO OLIVOS A 76 SANTA BRIGIDA  \n",
              "3     48   35021  Santa Brígida            CARRETERA SILOS A 48 SANTA BRIGIDA  \n",
              "4     28   35021  Santa Brígida  URBANIZACION LENTISCOS PARC 28 SANTA BRIGIDA  "
            ],
            "text/html": [
              "\n",
              "  <div id=\"df-af483b3e-744a-4107-b5fd-6f19b71a3121\">\n",
              "    <div class=\"colab-df-container\">\n",
              "      <div>\n",
              "<style scoped>\n",
              "    .dataframe tbody tr th:only-of-type {\n",
              "        vertical-align: middle;\n",
              "    }\n",
              "\n",
              "    .dataframe tbody tr th {\n",
              "        vertical-align: top;\n",
              "    }\n",
              "\n",
              "    .dataframe thead th {\n",
              "        text-align: right;\n",
              "    }\n",
              "</style>\n",
              "<table border=\"1\" class=\"dataframe\">\n",
              "  <thead>\n",
              "    <tr style=\"text-align: right;\">\n",
              "      <th></th>\n",
              "      <th>uuid_idt</th>\n",
              "      <th>tvia</th>\n",
              "      <th>nvia</th>\n",
              "      <th>numer</th>\n",
              "      <th>codmun</th>\n",
              "      <th>nommun</th>\n",
              "      <th>direccion</th>\n",
              "    </tr>\n",
              "  </thead>\n",
              "  <tbody>\n",
              "    <tr>\n",
              "      <th>0</th>\n",
              "      <td>3523bab3-7449-11eb-8771-6f70bc935088</td>\n",
              "      <td>CALLE</td>\n",
              "      <td>MANUEL LOPEZ MUÑOZ</td>\n",
              "      <td>6</td>\n",
              "      <td>35021</td>\n",
              "      <td>Santa Brígida</td>\n",
              "      <td>CALLE MANUEL LOPEZ MUÑOZ 6 SANTA BRIGIDA</td>\n",
              "    </tr>\n",
              "    <tr>\n",
              "      <th>1</th>\n",
              "      <td>68c8832a-3251-11e8-99bb-480fcf5217b3</td>\n",
              "      <td>LUGAR</td>\n",
              "      <td>BUENAVISTA</td>\n",
              "      <td>40</td>\n",
              "      <td>35021</td>\n",
              "      <td>Santa Brígida</td>\n",
              "      <td>LUGAR BUENAVISTA 40 SANTA BRIGIDA</td>\n",
              "    </tr>\n",
              "    <tr>\n",
              "      <th>2</th>\n",
              "      <td>60721e56-3251-11e8-b29a-480fcf5217b3</td>\n",
              "      <td>CAMINO</td>\n",
              "      <td>OLIVOS A</td>\n",
              "      <td>76</td>\n",
              "      <td>35021</td>\n",
              "      <td>Santa Brígida</td>\n",
              "      <td>CAMINO OLIVOS A 76 SANTA BRIGIDA</td>\n",
              "    </tr>\n",
              "    <tr>\n",
              "      <th>3</th>\n",
              "      <td>66c0d524-3251-11e8-b1da-480fcf5217b3</td>\n",
              "      <td>CARRETERA</td>\n",
              "      <td>SILOS A</td>\n",
              "      <td>48</td>\n",
              "      <td>35021</td>\n",
              "      <td>Santa Brígida</td>\n",
              "      <td>CARRETERA SILOS A 48 SANTA BRIGIDA</td>\n",
              "    </tr>\n",
              "    <tr>\n",
              "      <th>4</th>\n",
              "      <td>115de6bd-868d-4c65-8c48-62b9648e447f</td>\n",
              "      <td>URBANIZACION</td>\n",
              "      <td>LENTISCOS PARC</td>\n",
              "      <td>28</td>\n",
              "      <td>35021</td>\n",
              "      <td>Santa Brígida</td>\n",
              "      <td>URBANIZACION LENTISCOS PARC 28 SANTA BRIGIDA</td>\n",
              "    </tr>\n",
              "  </tbody>\n",
              "</table>\n",
              "</div>\n",
              "      <button class=\"colab-df-convert\" onclick=\"convertToInteractive('df-af483b3e-744a-4107-b5fd-6f19b71a3121')\"\n",
              "              title=\"Convert this dataframe to an interactive table.\"\n",
              "              style=\"display:none;\">\n",
              "        \n",
              "  <svg xmlns=\"http://www.w3.org/2000/svg\" height=\"24px\"viewBox=\"0 0 24 24\"\n",
              "       width=\"24px\">\n",
              "    <path d=\"M0 0h24v24H0V0z\" fill=\"none\"/>\n",
              "    <path d=\"M18.56 5.44l.94 2.06.94-2.06 2.06-.94-2.06-.94-.94-2.06-.94 2.06-2.06.94zm-11 1L8.5 8.5l.94-2.06 2.06-.94-2.06-.94L8.5 2.5l-.94 2.06-2.06.94zm10 10l.94 2.06.94-2.06 2.06-.94-2.06-.94-.94-2.06-.94 2.06-2.06.94z\"/><path d=\"M17.41 7.96l-1.37-1.37c-.4-.4-.92-.59-1.43-.59-.52 0-1.04.2-1.43.59L10.3 9.45l-7.72 7.72c-.78.78-.78 2.05 0 2.83L4 21.41c.39.39.9.59 1.41.59.51 0 1.02-.2 1.41-.59l7.78-7.78 2.81-2.81c.8-.78.8-2.07 0-2.86zM5.41 20L4 18.59l7.72-7.72 1.47 1.35L5.41 20z\"/>\n",
              "  </svg>\n",
              "      </button>\n",
              "      \n",
              "  <style>\n",
              "    .colab-df-container {\n",
              "      display:flex;\n",
              "      flex-wrap:wrap;\n",
              "      gap: 12px;\n",
              "    }\n",
              "\n",
              "    .colab-df-convert {\n",
              "      background-color: #E8F0FE;\n",
              "      border: none;\n",
              "      border-radius: 50%;\n",
              "      cursor: pointer;\n",
              "      display: none;\n",
              "      fill: #1967D2;\n",
              "      height: 32px;\n",
              "      padding: 0 0 0 0;\n",
              "      width: 32px;\n",
              "    }\n",
              "\n",
              "    .colab-df-convert:hover {\n",
              "      background-color: #E2EBFA;\n",
              "      box-shadow: 0px 1px 2px rgba(60, 64, 67, 0.3), 0px 1px 3px 1px rgba(60, 64, 67, 0.15);\n",
              "      fill: #174EA6;\n",
              "    }\n",
              "\n",
              "    [theme=dark] .colab-df-convert {\n",
              "      background-color: #3B4455;\n",
              "      fill: #D2E3FC;\n",
              "    }\n",
              "\n",
              "    [theme=dark] .colab-df-convert:hover {\n",
              "      background-color: #434B5C;\n",
              "      box-shadow: 0px 1px 3px 1px rgba(0, 0, 0, 0.15);\n",
              "      filter: drop-shadow(0px 1px 2px rgba(0, 0, 0, 0.3));\n",
              "      fill: #FFFFFF;\n",
              "    }\n",
              "  </style>\n",
              "\n",
              "      <script>\n",
              "        const buttonEl =\n",
              "          document.querySelector('#df-af483b3e-744a-4107-b5fd-6f19b71a3121 button.colab-df-convert');\n",
              "        buttonEl.style.display =\n",
              "          google.colab.kernel.accessAllowed ? 'block' : 'none';\n",
              "\n",
              "        async function convertToInteractive(key) {\n",
              "          const element = document.querySelector('#df-af483b3e-744a-4107-b5fd-6f19b71a3121');\n",
              "          const dataTable =\n",
              "            await google.colab.kernel.invokeFunction('convertToInteractive',\n",
              "                                                     [key], {});\n",
              "          if (!dataTable) return;\n",
              "\n",
              "          const docLinkHtml = 'Like what you see? Visit the ' +\n",
              "            '<a target=\"_blank\" href=https://colab.research.google.com/notebooks/data_table.ipynb>data table notebook</a>'\n",
              "            + ' to learn more about interactive tables.';\n",
              "          element.innerHTML = '';\n",
              "          dataTable['output_type'] = 'display_data';\n",
              "          await google.colab.output.renderOutput(dataTable, element);\n",
              "          const docLink = document.createElement('div');\n",
              "          docLink.innerHTML = docLinkHtml;\n",
              "          element.appendChild(docLink);\n",
              "        }\n",
              "      </script>\n",
              "    </div>\n",
              "  </div>\n",
              "  "
            ]
          },
          "metadata": {},
          "execution_count": 27
        }
      ]
    },
    {
      "cell_type": "markdown",
      "source": [
        "Checking varitions  : Adresses with same uuid_idt and  Adresses with differents uuid_idt"
      ],
      "metadata": {
        "id": "6kcdBE62GTbk"
      }
    },
    {
      "cell_type": "code",
      "source": [
        "#We need to have variations in our dataset for building models\n",
        "#that's why we need to check variations on the data\n",
        "from collections import Counter\n",
        "#putting uuid_idt on list format\n",
        "P=datos_frac['uuid_idt'].to_list()\n",
        "#We ar going to create a list that regroup uuid_idt\n",
        "C = Counter(P)\n",
        "ref=[ [k,]*v for k,v in C.items()]\n",
        "print(ref)"
      ],
      "metadata": {
        "id": "jHjI-zohe6D7",
        "colab": {
          "base_uri": "https://localhost:8080/"
        },
        "outputId": "254e5708-4fe3-4342-bf06-82f2368a07b1"
      },
      "execution_count": null,
      "outputs": [
        {
          "output_type": "stream",
          "name": "stdout",
          "text": [
            "[['c062576f-0ad1-11ea-8401-7756d0c25261'], ['64ad25af-b060-11eb-aac4-c5aaa44a5e49'], ['6b6df058-3251-11e8-aee4-480fcf5217b3'], ['753a547f-3251-11e8-b845-480fcf5217b3'], ['74a90dd1-3251-11e8-be81-480fcf5217b3'], ['c0f2b217-0ad1-11ea-8401-7756d0c25261'], ['4d772712-78f1-11eb-9335-3553a692cf72', '4d772712-78f1-11eb-9335-3553a692cf72'], ['75224427-3251-11e8-b185-480fcf5217b3'], ['68d9f588-3251-11e8-9ea1-480fcf5217b3'], ['6c9d43d7-3251-11e8-b3b8-480fcf5217b3', '6c9d43d7-3251-11e8-b3b8-480fcf5217b3'], ['6d43d0c9-3251-11e8-af8d-480fcf5217b3'], ['63afc930-3251-11e8-be49-480fcf5217b3'], ['69c478b9-3251-11e8-b09f-480fcf5217b3'], ['665fb498-3251-11e8-96a9-480fcf5217b3'], ['62085b79-3251-11e8-b2fa-480fcf5217b3'], ['704f52cb-3251-11e8-98e9-480fcf5217b3'], ['482bb7cc-8321-11ea-8991-9109b330b472'], ['7197e08f-3251-11e8-ad5f-480fcf5217b3'], ['6e45b01b-3251-11e8-bdd4-480fcf5217b3'], ['78493a70-3251-11e8-8f32-480fcf5217b3'], ['62a5915b-3251-11e8-b2ac-480fcf5217b3'], ['766984fe-3251-11e8-abed-480fcf5217b3'], ['306d21b7-b210-11eb-82f9-f982946fe736'], ['68eb8d8f-3251-11e8-a31b-480fcf5217b3'], ['c05fc23c-0ad1-11ea-8401-7756d0c25261', 'c05fc23c-0ad1-11ea-8401-7756d0c25261', 'c05fc23c-0ad1-11ea-8401-7756d0c25261', 'c05fc23c-0ad1-11ea-8401-7756d0c25261', 'c05fc23c-0ad1-11ea-8401-7756d0c25261', 'c05fc23c-0ad1-11ea-8401-7756d0c25261'], ['74198599-3251-11e8-9668-480fcf5217b3'], ['6a26bfa9-3251-11e8-9b2c-480fcf5217b3'], ['c0b82c0a-0ad1-11ea-8401-7756d0c25261', 'c0b82c0a-0ad1-11ea-8401-7756d0c25261'], ['68c85d17-3251-11e8-99b3-480fcf5217b3'], ['65a8abd2-3251-11e8-bc08-480fcf5217b3'], ['6397c3e1-3251-11e8-b792-480fcf5217b3'], ['6f2c0788-3251-11e8-af84-480fcf5217b3'], ['64e393b0-3251-11e8-bfa2-480fcf5217b3'], ['6e154470-3251-11e8-b047-480fcf5217b3'], ['6ce42b74-3251-11e8-b8ec-480fcf5217b3', '6ce42b74-3251-11e8-b8ec-480fcf5217b3'], ['701e5e62-3251-11e8-8b33-480fcf5217b3'], ['69c452b0-3251-11e8-b097-480fcf5217b3', '69c452b0-3251-11e8-b097-480fcf5217b3'], ['c635d8cb-3eda-11eb-845e-5fc45ade36e3'], ['766984fa-3251-11e8-abe9-480fcf5217b3'], ['6898c7e9-3251-11e8-b712-480fcf5217b3'], ['7029b0cb-3251-11e8-8e5a-480fcf5217b3', '7029b0cb-3251-11e8-8e5a-480fcf5217b3'], ['6f342254-3251-11e8-b1c5-480fcf5217b3'], ['77b8ed52-3251-11e8-a013-480fcf5217b3'], ['6d43d0c2-3251-11e8-af86-480fcf5217b3'], ['6c9d6ae6-3251-11e8-b3c2-480fcf5217b3'], ['68b1df5c-3251-11e8-be17-480fcf5217b3'], ['65a88398-3251-11e8-bbff-480fcf5217b3'], ['c4408b58-3eda-11eb-845e-5fc45ade36e3'], ['6fbef430-3251-11e8-bdff-480fcf5217b3'], ['63e49211-3251-11e8-b140-480fcf5217b3'], ['63979cac-3251-11e8-b780-480fcf5217b3'], ['7099f15a-3251-11e8-ade5-480fcf5217b3'], ['753a5480-3251-11e8-b846-480fcf5217b3'], ['c0b23b7f-0ad1-11ea-8401-7756d0c25261'], ['69dc6339-3251-11e8-b752-480fcf5217b3'], ['763adc28-3251-11e8-9edb-480fcf5217b3'], ['77f30db3-7e46-11eb-9c2e-bb25040d7002'], ['697c6269-3251-11e8-9c92-480fcf5217b3'], ['6ed692aa-3251-11e8-bb0d-480fcf5217b3'], ['779dff3f-3251-11e8-9883-480fcf5217b3'], ['6ed61d26-3251-11e8-bae8-480fcf5217b3'], ['6c6f0f19-3251-11e8-a6ca-480fcf5217b3'], ['77011ca9-3251-11e8-b9ac-480fcf5217b3'], ['614cc0ab-3251-11e8-a87f-480fcf5217b3'], ['6a57e717-3251-11e8-a8e3-480fcf5217b3'], ['711ff2b1-3251-11e8-ae34-480fcf5217b3'], ['73bd2386-3251-11e8-b456-480fcf5217b3'], ['60bd1629-3251-11e8-a7d1-480fcf5217b3'], ['6691187b-3251-11e8-a473-480fcf5217b3'], ['782e87f6-3251-11e8-87ba-480fcf5217b3'], ['72e1c0e5-3251-11e8-bec1-480fcf5217b3'], ['77cd6cae-3251-11e8-a5d8-480fcf5217b3'], ['63c8b988-3251-11e8-a97f-480fcf5217b3'], ['70da270d-3251-11e8-bf5e-480fcf5217b3'], ['c056ee9f-0ad1-11ea-8401-7756d0c25261'], ['738ca374-3251-11e8-a6be-480fcf5217b3'], ['643fc205-3251-11e8-b2d1-480fcf5217b3'], ['68365a2a-3251-11e8-b1de-480fcf5217b3'], ['63c8e0b4-3251-11e8-a988-480fcf5217b3'], ['7166bd87-3251-11e8-9fa4-480fcf5217b3'], ['7166954c-3251-11e8-9f9a-480fcf5217b3'], ['c0d247de-0ad1-11ea-8401-7756d0c25261'], ['65a88394-3251-11e8-bbfb-480fcf5217b3'], ['6f4967a7-3251-11e8-b7b6-480fcf5217b3'], ['6484d2f7-3251-11e8-add6-480fcf5217b3'], ['697c3b3f-3251-11e8-9c8b-480fcf5217b3'], ['706a01e8-3251-11e8-a064-480fcf5217b3'], ['c6be33be-3eda-11eb-845e-5fc45ade36e3'], ['67c171e4-3251-11e8-9115-480fcf5217b3'], ['7136ee04-3251-11e8-b4a5-480fcf5217b3'], ['7371f99a-3251-11e8-9f38-480fcf5217b3'], ['bf8794b3-7e02-11eb-9c2e-bb25040d7002', 'bf8794b3-7e02-11eb-9c2e-bb25040d7002'], ['6691187a-3251-11e8-a472-480fcf5217b3'], ['70c3f7b5-3251-11e8-b938-480fcf5217b3'], ['76ceedb9-3251-11e8-ac0c-480fcf5217b3'], ['d43fe802-b001-11eb-aac4-c5aaa44a5e49'], ['6af5c292-3251-11e8-aa4d-480fcf5217b3'], ['5fb565b2-3251-11e8-999f-480fcf5217b3'], ['6d1266cc-3251-11e8-bafa-480fcf5217b3'], ['75922f6a-3251-11e8-9af8-480fcf5217b3'], ['76222fa4-3251-11e8-97f7-480fcf5217b3'], ['62f2fd4c-3251-11e8-aabc-480fcf5217b3'], ['76e6a39c-3251-11e8-b2b6-480fcf5217b3'], ['76b63744-3251-11e8-a517-480fcf5217b3'], ['73d21975-3251-11e8-ba38-480fcf5217b3'], ['82d0c024-7af1-11eb-a554-cb98385cff1e'], ['fbeba05c-add9-11eb-89e0-e18902917be0', 'fbeba05c-add9-11eb-89e0-e18902917be0'], ['c07cd22c-0ad1-11ea-8401-7756d0c25261', 'c07cd22c-0ad1-11ea-8401-7756d0c25261'], ['c0c5f31b-0ad1-11ea-8401-7756d0c25261'], ['6e151d91-3251-11e8-b045-480fcf5217b3'], ['76e6a39b-3251-11e8-b2b5-480fcf5217b3'], ['73586ca5-3251-11e8-9816-480fcf5217b3'], ['6b55651c-3251-11e8-a7fd-480fcf5217b3'], ['626b6d93-3251-11e8-a301-480fcf5217b3', '626b6d93-3251-11e8-a301-480fcf5217b3'], ['6b243c36-3251-11e8-b759-480fcf5217b3'], ['6cb435b5-3251-11e8-ba24-480fcf5217b3'], ['5fe4d3be-3251-11e8-a6e6-480fcf5217b3'], ['6f79e7eb-3251-11e8-aab1-480fcf5217b3'], ['c4406456-3eda-11eb-845e-5fc45ade36e3'], ['60891128-3251-11e8-b8fb-480fcf5217b3'], ['6514d7bc-3251-11e8-92eb-480fcf5217b3'], ['338eaaae-7b3b-11eb-896e-6f4967c1d9d4'], ['705a67f7-3251-11e8-9c04-480fcf5217b3', '705a67f7-3251-11e8-9c04-480fcf5217b3'], ['717f5f87-3251-11e8-a680-480fcf5217b3'], ['753a2d72-3251-11e8-b83d-480fcf5217b3'], ['697c1414-3251-11e8-9c83-480fcf5217b3'], ['7680c780-3251-11e8-b26b-480fcf5217b3', '7680c780-3251-11e8-b26b-480fcf5217b3'], ['6d757b1c-3251-11e8-bd7d-480fcf5217b3'], ['74601331-3251-11e8-aa32-480fcf5217b3'], ['74777a7c-3251-11e8-b0be-480fcf5217b3'], ['71af2318-3251-11e8-b3e8-480fcf5217b3'], ['68bda620-3251-11e8-96aa-480fcf5217b3'], ['675bf67e-3251-11e8-a52a-480fcf5217b3'], ['73586ca4-3251-11e8-9815-480fcf5217b3'], ['6af5e9b5-3251-11e8-aa57-480fcf5217b3'], ['729b8829-3251-11e8-ab12-480fcf5217b3', '729b8829-3251-11e8-ab12-480fcf5217b3'], ['c0d04d5e-0ad1-11ea-8401-7756d0c25261'], ['c4403d6c-3eda-11eb-845e-5fc45ade36e3'], ['776d9446-3251-11e8-8af3-480fcf5217b3'], ['602b6e77-3251-11e8-ba8c-480fcf5217b3'], ['64b504d6-3251-11e8-bb44-480fcf5217b3', '64b504d6-3251-11e8-bb44-480fcf5217b3'], ['604373d0-3251-11e8-a589-480fcf5217b3'], ['71af4a4d-3251-11e8-b3f0-480fcf5217b3'], ['60bd1627-3251-11e8-a7cf-480fcf5217b3'], ['76222fa8-3251-11e8-97fb-480fcf5217b3'], ['65a88396-3251-11e8-bbfd-480fcf5217b3'], ['6282d776-3251-11e8-a999-480fcf5217b3'], ['77feb132-3251-11e8-b346-480fcf5217b3'], ['5ffcbe8a-3251-11e8-ad82-480fcf5217b3'], ['73ffd28e-3251-11e8-8f3a-480fcf5217b3'], ['63502987-3251-11e8-a385-480fcf5217b3'], ['6a775918-3251-11e8-b13a-480fcf5217b3'], ['69dc633e-3251-11e8-b757-480fcf5217b3'], ['646e2e2d-3251-11e8-bfe2-480fcf5217b3'], ['67ab577c-3251-11e8-bb72-480fcf5217b3'], ['66d66747-3251-11e8-b7f8-480fcf5217b3'], ['6237910f-3251-11e8-be71-480fcf5217b3'], ['6e754429-3251-11e8-9fca-480fcf5217b3'], ['779e26c7-3251-11e8-988e-480fcf5217b3', '779e26c7-3251-11e8-988e-480fcf5217b3'], ['7785d252-3251-11e8-91be-480fcf5217b3'], ['60726d78-3251-11e8-b2ae-480fcf5217b3'], ['6a82834a-3251-11e8-b454-480fcf5217b3'], ['60ecd282-3251-11e8-b534-480fcf5217b3'], ['65a88399-3251-11e8-bc00-480fcf5217b3'], ['63c8b98b-3251-11e8-a982-480fcf5217b3'], ['c440645e-3eda-11eb-845e-5fc45ade36e3'], ['64e393af-3251-11e8-bfa1-480fcf5217b3'], ['6ed6445d-3251-11e8-bafc-480fcf5217b3'], ['67ab3066-3251-11e8-bb6b-480fcf5217b3'], ['67ab5782-3251-11e8-bb78-480fcf5217b3'], ['34b61748-7449-11eb-8771-6f70bc935088'], ['c635b1d7-3eda-11eb-845e-5fc45ade36e3'], ['7680c788-3251-11e8-b273-480fcf5217b3'], ['655dbbcc-3251-11e8-a740-480fcf5217b3'], ['67d80642-3251-11e8-9773-480fcf5217b3'], ['63206e6e-3251-11e8-b77c-480fcf5217b3'], ['c0e4ffc7-0ad1-11ea-8401-7756d0c25261'], ['6320957c-3251-11e8-b785-480fcf5217b3'], ['68c85d0f-3251-11e8-99ab-480fcf5217b3'], ['637f975e-3251-11e8-b0d8-480fcf5217b3'], ['c711e5ca-3eda-11eb-845e-5fc45ade36e3'], ['6b6df057-3251-11e8-aee3-480fcf5217b3'], ['748fce09-3251-11e8-b78b-480fcf5217b3'], ['6ed9540a-3251-11e8-bbd6-480fcf5217b3'], ['e35ff696-8813-11ea-a789-89671a66fd50'], ['782e6047-3251-11e8-87b0-480fcf5217b3'], ['66d6b6af-3251-11e8-b80c-480fcf5217b3'], ['6b248a8c-3251-11e8-b769-480fcf5217b3'], ['61640224-3251-11e8-af06-480fcf5217b3'], ['686839d0-3251-11e8-bfd6-480fcf5217b3'], ['72ca09f0-3251-11e8-b819-480fcf5217b3'], ['6a983e1e-3251-11e8-ba72-480fcf5217b3'], ['c71197e4-3eda-11eb-845e-5fc45ade36e3'], ['6b248a8f-3251-11e8-b76c-480fcf5217b3'], ['72f8c94f-3251-11e8-ba4c-480fcf5217b3'], ['6ccc6355-3251-11e8-b247-480fcf5217b3'], ['744744b6-3251-11e8-a338-480fcf5217b3'], ['6089386a-3251-11e8-b906-480fcf5217b3'], ['62f371b6-3251-11e8-aad5-480fcf5217b3'], ['bf845df3-7e02-11eb-9c2e-bb25040d7002'], ['76b5c2ed-3251-11e8-a4fd-480fcf5217b3'], ['7328d2e2-3251-11e8-bb3c-480fcf5217b3'], ['6c6f0f1f-3251-11e8-a6d0-480fcf5217b3', '6c6f0f1f-3251-11e8-a6d0-480fcf5217b3'], ['5fcd1dc9-3251-11e8-a044-480fcf5217b3'], ['68c835f3-3251-11e8-99a8-480fcf5217b3'], ['70c41efc-3251-11e8-b93e-480fcf5217b3'], ['f8d1e313-86e0-11ea-ab71-7fef9da0c175', 'f8d1e313-86e0-11ea-ab71-7fef9da0c175', 'f8d1e313-86e0-11ea-ab71-7fef9da0c175'], ['735845fc-3251-11e8-980e-480fcf5217b3'], ['744744b4-3251-11e8-a336-480fcf5217b3'], ['61d7fbc7-3251-11e8-a581-480fcf5217b3'], ['7680a051-3251-11e8-b25f-480fcf5217b3'], ['d93b3160-b269-11eb-9e01-011ebcb1dd5c'], ['64fbe765-3251-11e8-8bec-480fcf5217b3'], ['6415123e-3251-11e8-beaf-480fcf5217b3'], ['69dc8a4a-3251-11e8-b75e-480fcf5217b3'], ['6072464c-3251-11e8-b2a5-480fcf5217b3'], ['670a604b-3251-11e8-b9a6-480fcf5217b3'], ['602b95a9-3251-11e8-ba91-480fcf5217b3'], ['78491342-3251-11e8-8f27-480fcf5217b3'], ['655dbbd0-3251-11e8-a744-480fcf5217b3'], ['c06a683c-0ad1-11ea-8401-7756d0c25261'], ['5f9d3937-3251-11e8-92dc-480fcf5217b3'], ['63c8e0b2-3251-11e8-a986-480fcf5217b3'], ['6a3ef7e1-3251-11e8-a1fb-480fcf5217b3'], ['738c7b2b-3251-11e8-a6b0-480fcf5217b3'], ['77b4f313-3251-11e8-9ef4-480fcf5217b3'], ['63502985-3251-11e8-a383-480fcf5217b3'], ['704f52c8-3251-11e8-98e6-480fcf5217b3'], ['c7969ad1-3eda-11eb-845e-5fc45ade36e3'], ['66782f60-3251-11e8-9d6b-480fcf5217b3'], ['fbeba05a-add9-11eb-89e0-e18902917be0'], ['c635b1d5-3eda-11eb-845e-5fc45ade36e3'], ['67efcb32-3251-11e8-9e1f-480fcf5217b3'], ['c06515ca-0ad1-11ea-8401-7756d0c25261'], ['6aded08e-3251-11e8-a3d4-480fcf5217b3'], ['69c478b5-3251-11e8-b09b-480fcf5217b3'], ['681fae99-3251-11e8-ab80-480fcf5217b3'], ['6fee23fd-3251-11e8-bd9a-480fcf5217b3'], ['fc2cc3cb-add9-11eb-89e0-e18902917be0'], ['c7969ad8-3eda-11eb-845e-5fc45ade36e3'], ['34b6653a-7449-11eb-8771-6f70bc935088'], ['5ffc9760-3251-11e8-ad7b-480fcf5217b3'], ['722c439c-3251-11e8-b681-480fcf5217b3'], ['649d4f20-3251-11e8-b496-480fcf5217b3'], ['6fd61ebb-3251-11e8-b6df-480fcf5217b3'], ['763adc2f-3251-11e8-9ee2-480fcf5217b3'], ['75224422-3251-11e8-b180-480fcf5217b3'], ['67ab5778-3251-11e8-bb6e-480fcf5217b3'], ['75ab2666-3251-11e8-a1ff-480fcf5217b3'], ['7757fce4-3251-11e8-bbd7-480fcf5217b3'], ['c711e5c4-3eda-11eb-845e-5fc45ade36e3'], ['66c0d522-3251-11e8-b1d8-480fcf5217b3'], ['6b84d7fc-3251-11e8-b54b-480fcf5217b3'], ['6fee2403-3251-11e8-bda0-480fcf5217b3'], ['75ab4ea6-3251-11e8-a20e-480fcf5217b3'], ['65e9e49a-3251-11e8-a235-480fcf5217b3'], ['74a8e578-3251-11e8-be77-480fcf5217b3'], ['6163db05-3251-11e8-af00-480fcf5217b3'], ['fbeb2b82-add9-11eb-89e0-e18902917be0'], ['c07b4db0-0ad1-11ea-8401-7756d0c25261'], ['9c0ef77f-25d4-4c7a-9183-f123372c7ae2'], ['687e6920-3251-11e8-afac-480fcf5217b3'], ['c099e341-0ad1-11ea-8401-7756d0c25261'], ['fbeb2b81-add9-11eb-89e0-e18902917be0'], ['63fd5b42-3251-11e8-b80e-480fcf5217b3'], ['62556686-3251-11e8-9cdc-480fcf5217b3'], ['5f86e3d0-3251-11e8-8ca3-480fcf5217b3'], ['da2a7df4-7a4b-11eb-a554-cb98385cff1e'], ['74d6a492-3251-11e8-9c49-480fcf5217b3'], ['7785ac33-3251-11e8-91b4-480fcf5217b3'], ['5fcbe890-af6b-11eb-8323-2b01b6a12ecb'], ['65c2a8ea-3251-11e8-9739-480fcf5217b3'], ['c063681d-0ad1-11ea-8401-7756d0c25261'], ['c0540a62-0ad1-11ea-8401-7756d0c25261'], ['68066fff-3251-11e8-a477-480fcf5217b3'], ['7069da6e-3251-11e8-a05d-480fcf5217b3'], ['655de306-3251-11e8-a74d-480fcf5217b3'], ['684e374f-3251-11e8-b891-480fcf5217b3'], ['6e2a3d2c-dcf4-4207-b58f-454882df367c'], ['e7834c16-b11b-11eb-a198-99a168050db7'], ['6397758d-3251-11e8-b77a-480fcf5217b3'], ['7197e093-3251-11e8-ad63-480fcf5217b3'], ['77578768-3251-11e8-bbba-480fcf5217b3'], ['66d6b6a9-3251-11e8-b806-480fcf5217b3'], ['da29e228-7a4b-11eb-a554-cb98385cff1e'], ['67d8063c-3251-11e8-976d-480fcf5217b3'], ['74c02808-3251-11e8-95fe-480fcf5217b3'], ['60d51b81-3251-11e8-ae92-480fcf5217b3'], ['da29bb36-7a4b-11eb-a554-cb98385cff1e'], ['c09356e8-0ad1-11ea-8401-7756d0c25261'], ['60721e56-3251-11e8-b29a-480fcf5217b3'], ['63fd5b3f-3251-11e8-b80b-480fcf5217b3'], ['62f371b7-3251-11e8-aad6-480fcf5217b3'], ['64fbe766-3251-11e8-8bed-480fcf5217b3'], ['78156663-3251-11e8-b9a6-480fcf5217b3'], ['c0506243-0ad1-11ea-8401-7756d0c25261'], ['fc2ceaa6-add9-11eb-89e0-e18902917be0']]\n"
          ]
        }
      ]
    },
    {
      "cell_type": "markdown",
      "source": [
        "Each value in the list gives us the number of times an address is repeated (i.e. with the same uuid_idt)"
      ],
      "metadata": {
        "id": "cbq1F7nfI6_3"
      }
    },
    {
      "cell_type": "code",
      "source": [
        "#list to get repetitions of an address\n",
        "rep=[]\n",
        "for i in ref:\n",
        "  rep.append(len(i))\n",
        "print(rep)"
      ],
      "metadata": {
        "colab": {
          "base_uri": "https://localhost:8080/"
        },
        "id": "pQnVKF4zgV9L",
        "outputId": "bbba1f8b-1dd4-4f0b-c3d4-39f2066d2069"
      },
      "execution_count": null,
      "outputs": [
        {
          "output_type": "stream",
          "name": "stdout",
          "text": [
            "[1, 1, 1, 1, 1, 1, 2, 1, 1, 2, 1, 1, 1, 1, 1, 1, 1, 1, 1, 1, 1, 1, 1, 1, 6, 1, 1, 2, 1, 1, 1, 1, 1, 1, 2, 1, 2, 1, 1, 1, 2, 1, 1, 1, 1, 1, 1, 1, 1, 1, 1, 1, 1, 1, 1, 1, 1, 1, 1, 1, 1, 1, 1, 1, 1, 1, 1, 1, 1, 1, 1, 1, 1, 1, 1, 1, 1, 1, 1, 1, 1, 1, 1, 1, 1, 1, 1, 1, 1, 1, 1, 2, 1, 1, 1, 1, 1, 1, 1, 1, 1, 1, 1, 1, 1, 1, 2, 2, 1, 1, 1, 1, 1, 2, 1, 1, 1, 1, 1, 1, 1, 1, 2, 1, 1, 1, 2, 1, 1, 1, 1, 1, 1, 1, 1, 2, 1, 1, 1, 1, 2, 1, 1, 1, 1, 1, 1, 1, 1, 1, 1, 1, 1, 1, 1, 1, 1, 1, 2, 1, 1, 1, 1, 1, 1, 1, 1, 1, 1, 1, 1, 1, 1, 1, 1, 1, 1, 1, 1, 1, 1, 1, 1, 1, 1, 1, 1, 1, 1, 1, 1, 1, 1, 1, 1, 1, 1, 1, 1, 1, 1, 1, 2, 1, 1, 1, 3, 1, 1, 1, 1, 1, 1, 1, 1, 1, 1, 1, 1, 1, 1, 1, 1, 1, 1, 1, 1, 1, 1, 1, 1, 1, 1, 1, 1, 1, 1, 1, 1, 1, 1, 1, 1, 1, 1, 1, 1, 1, 1, 1, 1, 1, 1, 1, 1, 1, 1, 1, 1, 1, 1, 1, 1, 1, 1, 1, 1, 1, 1, 1, 1, 1, 1, 1, 1, 1, 1, 1, 1, 1, 1, 1, 1, 1, 1, 1, 1, 1, 1, 1, 1, 1, 1, 1, 1, 1, 1]\n"
          ]
        }
      ]
    },
    {
      "cell_type": "markdown",
      "source": [
        "REmoving the testpart"
      ],
      "metadata": {
        "id": "eCmQNSctHv6e"
      }
    },
    {
      "cell_type": "code",
      "source": [],
      "metadata": {
        "id": "5hJFoHm9HubO"
      },
      "execution_count": null,
      "outputs": []
    },
    {
      "cell_type": "markdown",
      "source": [
        "Now we create  datasets for future models"
      ],
      "metadata": {
        "id": "B8UVO4Q_Syaw"
      }
    },
    {
      "cell_type": "code",
      "source": [
        "name='muestra'\n",
        "datos_frac.to_csv('/content/sample_data/'+name+'.csv')\n",
        "\n",
        "name0='santaBrigidaTrain'\n",
        "santaBrigida.to_csv('/content/sample_data/'+name0+'.csv')"
      ],
      "metadata": {
        "id": "hnACmzLTITA8"
      },
      "execution_count": null,
      "outputs": []
    }
  ]
}